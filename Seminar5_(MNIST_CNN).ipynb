{
  "nbformat": 4,
  "nbformat_minor": 0,
  "metadata": {
    "colab": {
      "name": "Seminar5_(MNIST_CNN).ipynb",
      "version": "0.3.2",
      "provenance": [],
      "collapsed_sections": [],
      "include_colab_link": true
    },
    "language_info": {
      "codemirror_mode": {
        "name": "ipython",
        "version": 3
      },
      "file_extension": ".py",
      "mimetype": "text/x-python",
      "name": "python",
      "nbconvert_exporter": "python",
      "pygments_lexer": "ipython3",
      "version": "3.6.8"
    },
    "kernelspec": {
      "display_name": "Python 3",
      "language": "python",
      "name": "python3"
    },
    "accelerator": "GPU"
  },
  "cells": [
    {
      "cell_type": "markdown",
      "metadata": {
        "id": "view-in-github",
        "colab_type": "text"
      },
      "source": [
        "<a href=\"https://colab.research.google.com/github/kryvokhyzha/Neural-Network-and-CV/blob/master/Seminar5_(MNIST_CNN).ipynb\" target=\"_parent\"><img src=\"https://colab.research.google.com/assets/colab-badge.svg\" alt=\"Open In Colab\"/></a>"
      ]
    },
    {
      "cell_type": "markdown",
      "metadata": {
        "colab_type": "text",
        "id": "cdjn6pICZMoM"
      },
      "source": [
        "![alt text](https://engmrk.com/wp-content/uploads/2018/09/LeNet_Original_Image.jpg)"
      ]
    },
    {
      "cell_type": "markdown",
      "metadata": {
        "colab_type": "text",
        "id": "14icu4JgZXqM"
      },
      "source": [
        "![alt text](https://engmrk.com/wp-content/uploads/2018/09/LeNEt_Summary_Table.jpg)"
      ]
    },
    {
      "cell_type": "code",
      "metadata": {
        "colab_type": "code",
        "id": "85_HkTjcNZeg",
        "colab": {}
      },
      "source": [
        "import torch\n",
        "import random\n",
        "import numpy as np\n",
        "\n",
        "random.seed(0)\n",
        "np.random.seed(0)\n",
        "torch.manual_seed(0)\n",
        "torch.cuda.manual_seed(0)\n",
        "torch.backends.cudnn.deterministic = True"
      ],
      "execution_count": 0,
      "outputs": []
    },
    {
      "cell_type": "code",
      "metadata": {
        "colab_type": "code",
        "id": "kjPVw9UfNZel",
        "colab": {}
      },
      "source": [
        "import torchvision.datasets"
      ],
      "execution_count": 0,
      "outputs": []
    },
    {
      "cell_type": "code",
      "metadata": {
        "colab_type": "code",
        "id": "buWKcUqGNZeo",
        "colab": {
          "base_uri": "https://localhost:8080/",
          "height": 252
        },
        "outputId": "1b46fd9f-9c21-467b-a624-991276076af1"
      },
      "source": [
        "MNIST_train = torchvision.datasets.MNIST('./', download=True, train=True)\n",
        "MNIST_test = torchvision.datasets.MNIST('./', download=True, train=False)\n"
      ],
      "execution_count": 3,
      "outputs": [
        {
          "output_type": "stream",
          "text": [
            "\r0it [00:00, ?it/s]"
          ],
          "name": "stderr"
        },
        {
          "output_type": "stream",
          "text": [
            "Downloading http://yann.lecun.com/exdb/mnist/train-images-idx3-ubyte.gz to ./MNIST/raw/train-images-idx3-ubyte.gz\n"
          ],
          "name": "stdout"
        },
        {
          "output_type": "stream",
          "text": [
            "9920512it [00:01, 8053695.47it/s]                            \n"
          ],
          "name": "stderr"
        },
        {
          "output_type": "stream",
          "text": [
            "Extracting ./MNIST/raw/train-images-idx3-ubyte.gz\n"
          ],
          "name": "stdout"
        },
        {
          "output_type": "stream",
          "text": [
            "  0%|          | 0/28881 [00:00<?, ?it/s]"
          ],
          "name": "stderr"
        },
        {
          "output_type": "stream",
          "text": [
            "Downloading http://yann.lecun.com/exdb/mnist/train-labels-idx1-ubyte.gz to ./MNIST/raw/train-labels-idx1-ubyte.gz\n"
          ],
          "name": "stdout"
        },
        {
          "output_type": "stream",
          "text": [
            "32768it [00:00, 128785.71it/s]           \n",
            "  0%|          | 0/1648877 [00:00<?, ?it/s]"
          ],
          "name": "stderr"
        },
        {
          "output_type": "stream",
          "text": [
            "Extracting ./MNIST/raw/train-labels-idx1-ubyte.gz\n",
            "Downloading http://yann.lecun.com/exdb/mnist/t10k-images-idx3-ubyte.gz to ./MNIST/raw/t10k-images-idx3-ubyte.gz\n"
          ],
          "name": "stdout"
        },
        {
          "output_type": "stream",
          "text": [
            "1654784it [00:00, 2351907.49it/s]                           \n",
            "0it [00:00, ?it/s]"
          ],
          "name": "stderr"
        },
        {
          "output_type": "stream",
          "text": [
            "Extracting ./MNIST/raw/t10k-images-idx3-ubyte.gz\n",
            "Downloading http://yann.lecun.com/exdb/mnist/t10k-labels-idx1-ubyte.gz to ./MNIST/raw/t10k-labels-idx1-ubyte.gz\n"
          ],
          "name": "stdout"
        },
        {
          "output_type": "stream",
          "text": [
            "8192it [00:00, 49214.28it/s]            "
          ],
          "name": "stderr"
        },
        {
          "output_type": "stream",
          "text": [
            "Extracting ./MNIST/raw/t10k-labels-idx1-ubyte.gz\n",
            "Processing...\n",
            "Done!\n"
          ],
          "name": "stdout"
        },
        {
          "output_type": "stream",
          "text": [
            "\n"
          ],
          "name": "stderr"
        }
      ]
    },
    {
      "cell_type": "code",
      "metadata": {
        "colab_type": "code",
        "id": "nyrpGOtPNZeq",
        "colab": {
          "base_uri": "https://localhost:8080/",
          "height": 171
        },
        "outputId": "d54c512d-b296-4924-8740-2a28d724891b"
      },
      "source": [
        "X_train = MNIST_train.train_data\n",
        "y_train = MNIST_train.train_labels\n",
        "X_test = MNIST_test.test_data\n",
        "y_test = MNIST_test.test_labels"
      ],
      "execution_count": 4,
      "outputs": [
        {
          "output_type": "stream",
          "text": [
            "/usr/local/lib/python3.6/dist-packages/torchvision/datasets/mnist.py:53: UserWarning: train_data has been renamed data\n",
            "  warnings.warn(\"train_data has been renamed data\")\n",
            "/usr/local/lib/python3.6/dist-packages/torchvision/datasets/mnist.py:43: UserWarning: train_labels has been renamed targets\n",
            "  warnings.warn(\"train_labels has been renamed targets\")\n",
            "/usr/local/lib/python3.6/dist-packages/torchvision/datasets/mnist.py:58: UserWarning: test_data has been renamed data\n",
            "  warnings.warn(\"test_data has been renamed data\")\n",
            "/usr/local/lib/python3.6/dist-packages/torchvision/datasets/mnist.py:48: UserWarning: test_labels has been renamed targets\n",
            "  warnings.warn(\"test_labels has been renamed targets\")\n"
          ],
          "name": "stderr"
        }
      ]
    },
    {
      "cell_type": "code",
      "metadata": {
        "colab_type": "code",
        "id": "f_TmOTWdNZet",
        "colab": {
          "base_uri": "https://localhost:8080/",
          "height": 34
        },
        "outputId": "ed0b7eb4-c233-4b37-bd79-f66574ab17b7"
      },
      "source": [
        "len(y_train), len(y_test)"
      ],
      "execution_count": 5,
      "outputs": [
        {
          "output_type": "execute_result",
          "data": {
            "text/plain": [
              "(60000, 10000)"
            ]
          },
          "metadata": {
            "tags": []
          },
          "execution_count": 5
        }
      ]
    },
    {
      "cell_type": "code",
      "metadata": {
        "colab_type": "code",
        "id": "Zd-E4vIpNZe1",
        "colab": {
          "base_uri": "https://localhost:8080/",
          "height": 286
        },
        "outputId": "24391715-de3c-4013-f4db-a4cc4c7dbec8"
      },
      "source": [
        "import matplotlib.pyplot as plt\n",
        "plt.imshow(X_train[0, :, :])\n",
        "plt.show()\n",
        "print(y_train[0])"
      ],
      "execution_count": 6,
      "outputs": [
        {
          "output_type": "display_data",
          "data": {
            "image/png": "[encoded data removed]",
            "text/plain": [
              "<Figure size 432x288 with 1 Axes>"
            ]
          },
          "metadata": {
            "tags": []
          }
        },
        {
          "output_type": "stream",
          "text": [
            "tensor(5)\n"
          ],
          "name": "stdout"
        }
      ]
    },
    {
      "cell_type": "code",
      "metadata": {
        "colab_type": "code",
        "id": "Tf9LiDGuNZe6",
        "colab": {}
      },
      "source": [
        "X_train = X_train.unsqueeze(1).float()\n",
        "X_test = X_test.unsqueeze(1).float()"
      ],
      "execution_count": 0,
      "outputs": []
    },
    {
      "cell_type": "code",
      "metadata": {
        "colab_type": "code",
        "id": "kxKAhEYHNZe-",
        "colab": {
          "base_uri": "https://localhost:8080/",
          "height": 34
        },
        "outputId": "c4af8679-63c6-43c8-b71e-62dadd7ef325"
      },
      "source": [
        "X_train.shape"
      ],
      "execution_count": 8,
      "outputs": [
        {
          "output_type": "execute_result",
          "data": {
            "text/plain": [
              "torch.Size([60000, 1, 28, 28])"
            ]
          },
          "metadata": {
            "tags": []
          },
          "execution_count": 8
        }
      ]
    },
    {
      "cell_type": "code",
      "metadata": {
        "colab_type": "code",
        "id": "xhsw9soDODel",
        "colab": {}
      },
      "source": [
        "class LeNet5(torch.nn.Module):\n",
        "    def __init__(self):\n",
        "        super(LeNet5, self).__init__()\n",
        "        \n",
        "        self.conv1 = torch.nn.Conv2d(\n",
        "            in_channels=1, out_channels=6, kernel_size=5, padding=2)\n",
        "        self.act1  = torch.nn.Tanh()\n",
        "        self.pool1 = torch.nn.AvgPool2d(kernel_size=2, stride=2)\n",
        "       \n",
        "        self.conv2 = torch.nn.Conv2d(\n",
        "            in_channels=6, out_channels=16, kernel_size=5, padding=0)\n",
        "        self.act2  = torch.nn.Tanh()\n",
        "        self.pool2 = torch.nn.AvgPool2d(kernel_size=2, stride=2)\n",
        "        \n",
        "        self.fc1   = torch.nn.Linear(5 * 5 * 16, 120)\n",
        "        self.act3  = torch.nn.Tanh()\n",
        "        \n",
        "        self.fc2   = torch.nn.Linear(120, 84)\n",
        "        self.act4  = torch.nn.Tanh()\n",
        "        \n",
        "        self.fc3   = torch.nn.Linear(84, 10)\n",
        "    \n",
        "    def forward(self, x):\n",
        "        \n",
        "        x = self.conv1(x)\n",
        "        x = self.act1(x)\n",
        "        x = self.pool1(x)\n",
        "        \n",
        "        x = self.conv2(x)\n",
        "        x = self.act2(x)\n",
        "        x = self.pool2(x)\n",
        "        \n",
        "        x = x.view(x.size(0), x.size(1) * x.size(2) * x.size(3))\n",
        "\n",
        "        x = self.fc1(x)\n",
        "        x = self.act3(x)\n",
        "        x = self.fc2(x)\n",
        "        x = self.act4(x)\n",
        "        x = self.fc3(x)\n",
        "        \n",
        "        return x\n",
        "    \n",
        "lenet5 = LeNet5()"
      ],
      "execution_count": 0,
      "outputs": []
    },
    {
      "cell_type": "code",
      "metadata": {
        "colab_type": "code",
        "id": "qT-PsO7VNZfB",
        "colab": {}
      },
      "source": [
        "device = torch.device('cuda:0' if torch.cuda.is_available() else 'cpu')\n",
        "lenet5 = lenet5.to(device)"
      ],
      "execution_count": 0,
      "outputs": []
    },
    {
      "cell_type": "code",
      "metadata": {
        "colab_type": "code",
        "id": "rkK0kv1VNZfL",
        "colab": {}
      },
      "source": [
        "loss = torch.nn.CrossEntropyLoss()\n",
        "optimizer = torch.optim.Adam(lenet5.parameters(), lr=1.0e-3)"
      ],
      "execution_count": 0,
      "outputs": []
    },
    {
      "cell_type": "code",
      "metadata": {
        "colab_type": "code",
        "id": "XfA9gqSdNZfQ",
        "colab": {
          "base_uri": "https://localhost:8080/",
          "height": 1000
        },
        "outputId": "3fad0211-bd69-4cc2-dc29-13f230bf8058"
      },
      "source": [
        "batch_size = 100\n",
        "\n",
        "test_accuracy_history = []\n",
        "test_loss_history = []\n",
        "\n",
        "X_test = X_test.to(device)\n",
        "y_test = y_test.to(device)\n",
        "\n",
        "for epoch in range(10000):\n",
        "    order = np.random.permutation(len(X_train))\n",
        "    for start_index in range(0, len(X_train), batch_size):\n",
        "        optimizer.zero_grad()\n",
        "        \n",
        "        batch_indexes = order[start_index:start_index+batch_size]\n",
        "        \n",
        "        X_batch = X_train[batch_indexes].to(device)\n",
        "        y_batch = y_train[batch_indexes].to(device)\n",
        "        \n",
        "        preds = lenet5.forward(X_batch) \n",
        "        \n",
        "        loss_value = loss(preds, y_batch)\n",
        "        loss_value.backward()\n",
        "        \n",
        "        optimizer.step()\n",
        "        \n",
        "    test_preds = lenet5.forward(X_test)\n",
        "    test_loss_history.append(loss(test_preds, y_test).data.cpu())\n",
        "    \n",
        "    accuracy = (test_preds.argmax(dim=1) == y_test).float().mean().data.cpu()\n",
        "    test_accuracy_history.append(accuracy)\n",
        "    \n",
        "    print(accuracy)"
      ],
      "execution_count": 12,
      "outputs": [
        {
          "output_type": "stream",
          "text": [
            "tensor(0.9760)\n",
            "tensor(0.9812)\n",
            "tensor(0.9861)\n",
            "tensor(0.9867)\n",
            "tensor(0.9898)\n",
            "tensor(0.9898)\n",
            "tensor(0.9898)\n",
            "tensor(0.9898)\n",
            "tensor(0.9874)\n",
            "tensor(0.9876)\n",
            "tensor(0.9893)\n",
            "tensor(0.9886)\n",
            "tensor(0.9871)\n",
            "tensor(0.9907)\n",
            "tensor(0.9894)\n",
            "tensor(0.9900)\n",
            "tensor(0.9846)\n",
            "tensor(0.9896)\n",
            "tensor(0.9902)\n",
            "tensor(0.9893)\n",
            "tensor(0.9888)\n",
            "tensor(0.9901)\n",
            "tensor(0.9880)\n",
            "tensor(0.9875)\n",
            "tensor(0.9912)\n",
            "tensor(0.9891)\n",
            "tensor(0.9904)\n",
            "tensor(0.9882)\n",
            "tensor(0.9891)\n",
            "tensor(0.9899)\n",
            "tensor(0.9908)\n",
            "tensor(0.9885)\n",
            "tensor(0.9886)\n",
            "tensor(0.9891)\n",
            "tensor(0.9913)\n",
            "tensor(0.9885)\n",
            "tensor(0.9886)\n",
            "tensor(0.9902)\n",
            "tensor(0.9917)\n",
            "tensor(0.9888)\n",
            "tensor(0.9901)\n",
            "tensor(0.9884)\n",
            "tensor(0.9875)\n",
            "tensor(0.9903)\n",
            "tensor(0.9891)\n",
            "tensor(0.9896)\n",
            "tensor(0.9888)\n",
            "tensor(0.9907)\n",
            "tensor(0.9891)\n",
            "tensor(0.9892)\n",
            "tensor(0.9890)\n",
            "tensor(0.9909)\n",
            "tensor(0.9886)\n",
            "tensor(0.9895)\n",
            "tensor(0.9910)\n",
            "tensor(0.9880)\n",
            "tensor(0.9897)\n",
            "tensor(0.9898)\n",
            "tensor(0.9898)\n",
            "tensor(0.9905)\n",
            "tensor(0.9900)\n",
            "tensor(0.9872)\n",
            "tensor(0.9909)\n",
            "tensor(0.9889)\n",
            "tensor(0.9878)\n",
            "tensor(0.9898)\n",
            "tensor(0.9892)\n",
            "tensor(0.9900)\n",
            "tensor(0.9884)\n",
            "tensor(0.9889)\n",
            "tensor(0.9894)\n",
            "tensor(0.9897)\n",
            "tensor(0.9889)\n",
            "tensor(0.9876)\n",
            "tensor(0.9889)\n",
            "tensor(0.9876)\n",
            "tensor(0.9904)\n",
            "tensor(0.9899)\n",
            "tensor(0.9903)\n",
            "tensor(0.9898)\n",
            "tensor(0.9870)\n",
            "tensor(0.9886)\n",
            "tensor(0.9878)\n",
            "tensor(0.9896)\n",
            "tensor(0.9903)\n",
            "tensor(0.9904)\n",
            "tensor(0.9897)\n",
            "tensor(0.9895)\n",
            "tensor(0.9887)\n",
            "tensor(0.9902)\n",
            "tensor(0.9892)\n",
            "tensor(0.9899)\n",
            "tensor(0.9905)\n",
            "tensor(0.9901)\n",
            "tensor(0.9898)\n",
            "tensor(0.9889)\n",
            "tensor(0.9885)\n",
            "tensor(0.9878)\n",
            "tensor(0.9892)\n",
            "tensor(0.9897)\n",
            "tensor(0.9892)\n",
            "tensor(0.9885)\n",
            "tensor(0.9896)\n",
            "tensor(0.9893)\n",
            "tensor(0.9902)\n",
            "tensor(0.9904)\n",
            "tensor(0.9901)\n",
            "tensor(0.9882)\n",
            "tensor(0.9896)\n",
            "tensor(0.9890)\n",
            "tensor(0.9886)\n",
            "tensor(0.9888)\n",
            "tensor(0.9890)\n",
            "tensor(0.9891)\n",
            "tensor(0.9901)\n",
            "tensor(0.9889)\n",
            "tensor(0.9893)\n",
            "tensor(0.9887)\n",
            "tensor(0.9897)\n",
            "tensor(0.9900)\n",
            "tensor(0.9901)\n",
            "tensor(0.9892)\n",
            "tensor(0.9895)\n",
            "tensor(0.9880)\n",
            "tensor(0.9893)\n",
            "tensor(0.9896)\n",
            "tensor(0.9894)\n",
            "tensor(0.9880)\n",
            "tensor(0.9901)\n",
            "tensor(0.9884)\n",
            "tensor(0.9892)\n",
            "tensor(0.9885)\n",
            "tensor(0.9892)\n",
            "tensor(0.9889)\n",
            "tensor(0.9892)\n",
            "tensor(0.9895)\n",
            "tensor(0.9878)\n",
            "tensor(0.9889)\n",
            "tensor(0.9898)\n",
            "tensor(0.9891)\n",
            "tensor(0.9894)\n",
            "tensor(0.9884)\n",
            "tensor(0.9895)\n",
            "tensor(0.9906)\n",
            "tensor(0.9893)\n",
            "tensor(0.9909)\n",
            "tensor(0.9895)\n",
            "tensor(0.9899)\n",
            "tensor(0.9900)\n",
            "tensor(0.9900)\n",
            "tensor(0.9890)\n",
            "tensor(0.9892)\n",
            "tensor(0.9895)\n",
            "tensor(0.9890)\n",
            "tensor(0.9889)\n",
            "tensor(0.9892)\n",
            "tensor(0.9891)\n",
            "tensor(0.9899)\n",
            "tensor(0.9878)\n",
            "tensor(0.9893)\n",
            "tensor(0.9882)\n",
            "tensor(0.9893)\n",
            "tensor(0.9883)\n",
            "tensor(0.9891)\n",
            "tensor(0.9886)\n",
            "tensor(0.9889)\n",
            "tensor(0.9888)\n",
            "tensor(0.9888)\n",
            "tensor(0.9887)\n",
            "tensor(0.9897)\n",
            "tensor(0.9898)\n",
            "tensor(0.9897)\n",
            "tensor(0.9894)\n",
            "tensor(0.9890)\n",
            "tensor(0.9880)\n",
            "tensor(0.9897)\n",
            "tensor(0.9901)\n",
            "tensor(0.9902)\n",
            "tensor(0.9902)\n",
            "tensor(0.9899)\n",
            "tensor(0.9899)\n",
            "tensor(0.9898)\n",
            "tensor(0.9901)\n",
            "tensor(0.9903)\n",
            "tensor(0.9903)\n",
            "tensor(0.9904)\n",
            "tensor(0.9902)\n",
            "tensor(0.9905)\n",
            "tensor(0.9906)\n",
            "tensor(0.9904)\n",
            "tensor(0.9907)\n",
            "tensor(0.9907)\n",
            "tensor(0.9906)\n",
            "tensor(0.9907)\n",
            "tensor(0.9907)\n",
            "tensor(0.9907)\n",
            "tensor(0.9909)\n",
            "tensor(0.9910)\n",
            "tensor(0.9910)\n",
            "tensor(0.9909)\n",
            "tensor(0.9912)\n",
            "tensor(0.9912)\n",
            "tensor(0.9910)\n",
            "tensor(0.9913)\n",
            "tensor(0.9911)\n",
            "tensor(0.9913)\n",
            "tensor(0.9913)\n",
            "tensor(0.9913)\n",
            "tensor(0.9910)\n",
            "tensor(0.9915)\n",
            "tensor(0.9845)\n",
            "tensor(0.9879)\n",
            "tensor(0.9877)\n",
            "tensor(0.9878)\n",
            "tensor(0.9896)\n",
            "tensor(0.9882)\n",
            "tensor(0.9878)\n",
            "tensor(0.9899)\n",
            "tensor(0.9883)\n",
            "tensor(0.9880)\n",
            "tensor(0.9894)\n",
            "tensor(0.9900)\n",
            "tensor(0.9888)\n",
            "tensor(0.9894)\n",
            "tensor(0.9889)\n",
            "tensor(0.9890)\n",
            "tensor(0.9911)\n",
            "tensor(0.9897)\n",
            "tensor(0.9896)\n",
            "tensor(0.9896)\n",
            "tensor(0.9897)\n",
            "tensor(0.9899)\n",
            "tensor(0.9891)\n",
            "tensor(0.9900)\n",
            "tensor(0.9880)\n",
            "tensor(0.9902)\n",
            "tensor(0.9885)\n",
            "tensor(0.9879)\n",
            "tensor(0.9888)\n",
            "tensor(0.9887)\n",
            "tensor(0.9888)\n",
            "tensor(0.9901)\n",
            "tensor(0.9894)\n",
            "tensor(0.9900)\n",
            "tensor(0.9880)\n",
            "tensor(0.9886)\n",
            "tensor(0.9896)\n",
            "tensor(0.9898)\n",
            "tensor(0.9907)\n",
            "tensor(0.9907)\n",
            "tensor(0.9908)\n",
            "tensor(0.9897)\n",
            "tensor(0.9905)\n",
            "tensor(0.9890)\n",
            "tensor(0.9890)\n",
            "tensor(0.9887)\n",
            "tensor(0.9891)\n",
            "tensor(0.9894)\n",
            "tensor(0.9893)\n",
            "tensor(0.9881)\n",
            "tensor(0.9879)\n",
            "tensor(0.9890)\n",
            "tensor(0.9899)\n",
            "tensor(0.9896)\n",
            "tensor(0.9897)\n",
            "tensor(0.9890)\n",
            "tensor(0.9909)\n",
            "tensor(0.9905)\n",
            "tensor(0.9882)\n",
            "tensor(0.9890)\n",
            "tensor(0.9884)\n",
            "tensor(0.9876)\n",
            "tensor(0.9881)\n",
            "tensor(0.9889)\n",
            "tensor(0.9880)\n",
            "tensor(0.9878)\n",
            "tensor(0.9892)\n",
            "tensor(0.9895)\n",
            "tensor(0.9888)\n",
            "tensor(0.9891)\n",
            "tensor(0.9901)\n",
            "tensor(0.9886)\n",
            "tensor(0.9876)\n",
            "tensor(0.9882)\n",
            "tensor(0.9869)\n",
            "tensor(0.9883)\n",
            "tensor(0.9888)\n",
            "tensor(0.9894)\n",
            "tensor(0.9898)\n",
            "tensor(0.9889)\n",
            "tensor(0.9891)\n",
            "tensor(0.9898)\n",
            "tensor(0.9893)\n",
            "tensor(0.9887)\n",
            "tensor(0.9904)\n",
            "tensor(0.9894)\n",
            "tensor(0.9891)\n",
            "tensor(0.9883)\n",
            "tensor(0.9863)\n",
            "tensor(0.9881)\n",
            "tensor(0.9882)\n",
            "tensor(0.9890)\n",
            "tensor(0.9879)\n",
            "tensor(0.9891)\n",
            "tensor(0.9882)\n",
            "tensor(0.9887)\n",
            "tensor(0.9891)\n",
            "tensor(0.9896)\n",
            "tensor(0.9898)\n",
            "tensor(0.9899)\n",
            "tensor(0.9885)\n",
            "tensor(0.9880)\n",
            "tensor(0.9891)\n",
            "tensor(0.9897)\n",
            "tensor(0.9888)\n",
            "tensor(0.9887)\n",
            "tensor(0.9891)\n",
            "tensor(0.9876)\n",
            "tensor(0.9888)\n",
            "tensor(0.9891)\n",
            "tensor(0.9904)\n",
            "tensor(0.9889)\n",
            "tensor(0.9897)\n",
            "tensor(0.9889)\n",
            "tensor(0.9904)\n",
            "tensor(0.9891)\n",
            "tensor(0.9885)\n",
            "tensor(0.9886)\n",
            "tensor(0.9888)\n",
            "tensor(0.9887)\n",
            "tensor(0.9888)\n",
            "tensor(0.9890)\n",
            "tensor(0.9882)\n",
            "tensor(0.9892)\n",
            "tensor(0.9891)\n",
            "tensor(0.9893)\n",
            "tensor(0.9883)\n",
            "tensor(0.9880)\n",
            "tensor(0.9888)\n",
            "tensor(0.9899)\n",
            "tensor(0.9868)\n",
            "tensor(0.9885)\n",
            "tensor(0.9877)\n",
            "tensor(0.9889)\n",
            "tensor(0.9903)\n",
            "tensor(0.9874)\n",
            "tensor(0.9893)\n",
            "tensor(0.9878)\n",
            "tensor(0.9881)\n",
            "tensor(0.9895)\n",
            "tensor(0.9893)\n",
            "tensor(0.9903)\n",
            "tensor(0.9887)\n",
            "tensor(0.9897)\n",
            "tensor(0.9893)\n",
            "tensor(0.9886)\n",
            "tensor(0.9874)\n",
            "tensor(0.9872)\n",
            "tensor(0.9893)\n",
            "tensor(0.9890)\n",
            "tensor(0.9882)\n",
            "tensor(0.9878)\n",
            "tensor(0.9862)\n",
            "tensor(0.9884)\n",
            "tensor(0.9877)\n",
            "tensor(0.9890)\n",
            "tensor(0.9893)\n",
            "tensor(0.9883)\n",
            "tensor(0.9885)\n",
            "tensor(0.9869)\n",
            "tensor(0.9884)\n",
            "tensor(0.9879)\n",
            "tensor(0.9884)\n",
            "tensor(0.9895)\n",
            "tensor(0.9881)\n",
            "tensor(0.9884)\n",
            "tensor(0.9880)\n",
            "tensor(0.9879)\n",
            "tensor(0.9888)\n",
            "tensor(0.9882)\n",
            "tensor(0.9887)\n",
            "tensor(0.9880)\n",
            "tensor(0.9877)\n",
            "tensor(0.9884)\n",
            "tensor(0.9889)\n",
            "tensor(0.9890)\n",
            "tensor(0.9891)\n",
            "tensor(0.9891)\n",
            "tensor(0.9893)\n",
            "tensor(0.9894)\n",
            "tensor(0.9893)\n",
            "tensor(0.9893)\n",
            "tensor(0.9893)\n",
            "tensor(0.9895)\n",
            "tensor(0.9894)\n",
            "tensor(0.9893)\n",
            "tensor(0.9894)\n",
            "tensor(0.9894)\n",
            "tensor(0.9894)\n",
            "tensor(0.9895)\n",
            "tensor(0.9896)\n",
            "tensor(0.9897)\n",
            "tensor(0.9898)\n",
            "tensor(0.9896)\n",
            "tensor(0.9898)\n",
            "tensor(0.9896)\n",
            "tensor(0.9894)\n",
            "tensor(0.9894)\n",
            "tensor(0.9895)\n",
            "tensor(0.9899)\n",
            "tensor(0.9898)\n",
            "tensor(0.9899)\n",
            "tensor(0.9894)\n",
            "tensor(0.9879)\n",
            "tensor(0.9880)\n",
            "tensor(0.9895)\n",
            "tensor(0.9884)\n",
            "tensor(0.9895)\n",
            "tensor(0.9893)\n",
            "tensor(0.9896)\n",
            "tensor(0.9884)\n",
            "tensor(0.9884)\n",
            "tensor(0.9881)\n",
            "tensor(0.9891)\n",
            "tensor(0.9874)\n",
            "tensor(0.9899)\n",
            "tensor(0.9880)\n",
            "tensor(0.9888)\n",
            "tensor(0.9883)\n",
            "tensor(0.9876)\n",
            "tensor(0.9889)\n",
            "tensor(0.9876)\n",
            "tensor(0.9883)\n",
            "tensor(0.9885)\n",
            "tensor(0.9883)\n",
            "tensor(0.9886)\n",
            "tensor(0.9897)\n",
            "tensor(0.9892)\n",
            "tensor(0.9894)\n",
            "tensor(0.9876)\n",
            "tensor(0.9885)\n",
            "tensor(0.9885)\n",
            "tensor(0.9890)\n",
            "tensor(0.9887)\n",
            "tensor(0.9875)\n",
            "tensor(0.9890)\n",
            "tensor(0.9884)\n",
            "tensor(0.9879)\n",
            "tensor(0.9874)\n",
            "tensor(0.9883)\n",
            "tensor(0.9885)\n",
            "tensor(0.9883)\n",
            "tensor(0.9884)\n",
            "tensor(0.9886)\n",
            "tensor(0.9898)\n",
            "tensor(0.9896)\n",
            "tensor(0.9899)\n",
            "tensor(0.9887)\n",
            "tensor(0.9883)\n",
            "tensor(0.9893)\n",
            "tensor(0.9897)\n",
            "tensor(0.9895)\n",
            "tensor(0.9894)\n",
            "tensor(0.9893)\n",
            "tensor(0.9893)\n",
            "tensor(0.9894)\n",
            "tensor(0.9894)\n",
            "tensor(0.9895)\n",
            "tensor(0.9892)\n",
            "tensor(0.9893)\n",
            "tensor(0.9892)\n",
            "tensor(0.9892)\n",
            "tensor(0.9894)\n",
            "tensor(0.9896)\n",
            "tensor(0.9896)\n",
            "tensor(0.9895)\n",
            "tensor(0.9898)\n",
            "tensor(0.9900)\n",
            "tensor(0.9899)\n",
            "tensor(0.9903)\n",
            "tensor(0.9902)\n",
            "tensor(0.9902)\n",
            "tensor(0.9902)\n",
            "tensor(0.9905)\n",
            "tensor(0.9907)\n",
            "tensor(0.9904)\n",
            "tensor(0.9903)\n",
            "tensor(0.9905)\n",
            "tensor(0.9903)\n",
            "tensor(0.9902)\n",
            "tensor(0.9906)\n",
            "tensor(0.9906)\n",
            "tensor(0.9863)\n",
            "tensor(0.9879)\n",
            "tensor(0.9892)\n",
            "tensor(0.9891)\n",
            "tensor(0.9885)\n",
            "tensor(0.9888)\n",
            "tensor(0.9882)\n",
            "tensor(0.9892)\n",
            "tensor(0.9873)\n",
            "tensor(0.9872)\n",
            "tensor(0.9885)\n",
            "tensor(0.9884)\n",
            "tensor(0.9889)\n",
            "tensor(0.9892)\n",
            "tensor(0.9886)\n",
            "tensor(0.9894)\n",
            "tensor(0.9891)\n",
            "tensor(0.9889)\n",
            "tensor(0.9892)\n",
            "tensor(0.9894)\n",
            "tensor(0.9898)\n",
            "tensor(0.9883)\n",
            "tensor(0.9888)\n",
            "tensor(0.9884)\n",
            "tensor(0.9888)\n",
            "tensor(0.9884)\n",
            "tensor(0.9867)\n",
            "tensor(0.9884)\n",
            "tensor(0.9883)\n",
            "tensor(0.9889)\n",
            "tensor(0.9871)\n",
            "tensor(0.9874)\n",
            "tensor(0.9880)\n",
            "tensor(0.9880)\n",
            "tensor(0.9879)\n",
            "tensor(0.9878)\n",
            "tensor(0.9868)\n",
            "tensor(0.9881)\n",
            "tensor(0.9868)\n",
            "tensor(0.9888)\n",
            "tensor(0.9889)\n",
            "tensor(0.9882)\n",
            "tensor(0.9896)\n",
            "tensor(0.9887)\n",
            "tensor(0.9890)\n",
            "tensor(0.9896)\n",
            "tensor(0.9888)\n",
            "tensor(0.9881)\n",
            "tensor(0.9877)\n",
            "tensor(0.9894)\n",
            "tensor(0.9888)\n",
            "tensor(0.9891)\n",
            "tensor(0.9884)\n",
            "tensor(0.9887)\n",
            "tensor(0.9882)\n",
            "tensor(0.9889)\n",
            "tensor(0.9883)\n",
            "tensor(0.9886)\n",
            "tensor(0.9909)\n",
            "tensor(0.9890)\n",
            "tensor(0.9889)\n",
            "tensor(0.9890)\n"
          ],
          "name": "stdout"
        },
        {
          "output_type": "error",
          "ename": "KeyboardInterrupt",
          "evalue": "ignored",
          "traceback": [
            "\u001b[0;31m---------------------------------------------------------------------------\u001b[0m",
            "\u001b[0;31mKeyboardInterrupt\u001b[0m                         Traceback (most recent call last)",
            "\u001b[0;32m<ipython-input-12-292baea311d4>\u001b[0m in \u001b[0;36m<module>\u001b[0;34m()\u001b[0m\n\u001b[1;32m     17\u001b[0m         \u001b[0my_batch\u001b[0m \u001b[0;34m=\u001b[0m \u001b[0my_train\u001b[0m\u001b[0;34m[\u001b[0m\u001b[0mbatch_indexes\u001b[0m\u001b[0;34m]\u001b[0m\u001b[0;34m.\u001b[0m\u001b[0mto\u001b[0m\u001b[0;34m(\u001b[0m\u001b[0mdevice\u001b[0m\u001b[0;34m)\u001b[0m\u001b[0;34m\u001b[0m\u001b[0;34m\u001b[0m\u001b[0m\n\u001b[1;32m     18\u001b[0m \u001b[0;34m\u001b[0m\u001b[0m\n\u001b[0;32m---> 19\u001b[0;31m         \u001b[0mpreds\u001b[0m \u001b[0;34m=\u001b[0m \u001b[0mlenet5\u001b[0m\u001b[0;34m.\u001b[0m\u001b[0mforward\u001b[0m\u001b[0;34m(\u001b[0m\u001b[0mX_batch\u001b[0m\u001b[0;34m)\u001b[0m\u001b[0;34m\u001b[0m\u001b[0;34m\u001b[0m\u001b[0m\n\u001b[0m\u001b[1;32m     20\u001b[0m \u001b[0;34m\u001b[0m\u001b[0m\n\u001b[1;32m     21\u001b[0m         \u001b[0mloss_value\u001b[0m \u001b[0;34m=\u001b[0m \u001b[0mloss\u001b[0m\u001b[0;34m(\u001b[0m\u001b[0mpreds\u001b[0m\u001b[0;34m,\u001b[0m \u001b[0my_batch\u001b[0m\u001b[0;34m)\u001b[0m\u001b[0;34m\u001b[0m\u001b[0;34m\u001b[0m\u001b[0m\n",
            "\u001b[0;32m<ipython-input-9-63782e014ff6>\u001b[0m in \u001b[0;36mforward\u001b[0;34m(self, x)\u001b[0m\n\u001b[1;32m     23\u001b[0m     \u001b[0;32mdef\u001b[0m \u001b[0mforward\u001b[0m\u001b[0;34m(\u001b[0m\u001b[0mself\u001b[0m\u001b[0;34m,\u001b[0m \u001b[0mx\u001b[0m\u001b[0;34m)\u001b[0m\u001b[0;34m:\u001b[0m\u001b[0;34m\u001b[0m\u001b[0;34m\u001b[0m\u001b[0m\n\u001b[1;32m     24\u001b[0m \u001b[0;34m\u001b[0m\u001b[0m\n\u001b[0;32m---> 25\u001b[0;31m         \u001b[0mx\u001b[0m \u001b[0;34m=\u001b[0m \u001b[0mself\u001b[0m\u001b[0;34m.\u001b[0m\u001b[0mconv1\u001b[0m\u001b[0;34m(\u001b[0m\u001b[0mx\u001b[0m\u001b[0;34m)\u001b[0m\u001b[0;34m\u001b[0m\u001b[0;34m\u001b[0m\u001b[0m\n\u001b[0m\u001b[1;32m     26\u001b[0m         \u001b[0mx\u001b[0m \u001b[0;34m=\u001b[0m \u001b[0mself\u001b[0m\u001b[0;34m.\u001b[0m\u001b[0mact1\u001b[0m\u001b[0;34m(\u001b[0m\u001b[0mx\u001b[0m\u001b[0;34m)\u001b[0m\u001b[0;34m\u001b[0m\u001b[0;34m\u001b[0m\u001b[0m\n\u001b[1;32m     27\u001b[0m         \u001b[0mx\u001b[0m \u001b[0;34m=\u001b[0m \u001b[0mself\u001b[0m\u001b[0;34m.\u001b[0m\u001b[0mpool1\u001b[0m\u001b[0;34m(\u001b[0m\u001b[0mx\u001b[0m\u001b[0;34m)\u001b[0m\u001b[0;34m\u001b[0m\u001b[0;34m\u001b[0m\u001b[0m\n",
            "\u001b[0;32m/usr/local/lib/python3.6/dist-packages/torch/nn/modules/module.py\u001b[0m in \u001b[0;36m__call__\u001b[0;34m(self, *input, **kwargs)\u001b[0m\n\u001b[1;32m    491\u001b[0m             \u001b[0mresult\u001b[0m \u001b[0;34m=\u001b[0m \u001b[0mself\u001b[0m\u001b[0;34m.\u001b[0m\u001b[0m_slow_forward\u001b[0m\u001b[0;34m(\u001b[0m\u001b[0;34m*\u001b[0m\u001b[0minput\u001b[0m\u001b[0;34m,\u001b[0m \u001b[0;34m**\u001b[0m\u001b[0mkwargs\u001b[0m\u001b[0;34m)\u001b[0m\u001b[0;34m\u001b[0m\u001b[0;34m\u001b[0m\u001b[0m\n\u001b[1;32m    492\u001b[0m         \u001b[0;32melse\u001b[0m\u001b[0;34m:\u001b[0m\u001b[0;34m\u001b[0m\u001b[0;34m\u001b[0m\u001b[0m\n\u001b[0;32m--> 493\u001b[0;31m             \u001b[0mresult\u001b[0m \u001b[0;34m=\u001b[0m \u001b[0mself\u001b[0m\u001b[0;34m.\u001b[0m\u001b[0mforward\u001b[0m\u001b[0;34m(\u001b[0m\u001b[0;34m*\u001b[0m\u001b[0minput\u001b[0m\u001b[0;34m,\u001b[0m \u001b[0;34m**\u001b[0m\u001b[0mkwargs\u001b[0m\u001b[0;34m)\u001b[0m\u001b[0;34m\u001b[0m\u001b[0;34m\u001b[0m\u001b[0m\n\u001b[0m\u001b[1;32m    494\u001b[0m         \u001b[0;32mfor\u001b[0m \u001b[0mhook\u001b[0m \u001b[0;32min\u001b[0m \u001b[0mself\u001b[0m\u001b[0;34m.\u001b[0m\u001b[0m_forward_hooks\u001b[0m\u001b[0;34m.\u001b[0m\u001b[0mvalues\u001b[0m\u001b[0;34m(\u001b[0m\u001b[0;34m)\u001b[0m\u001b[0;34m:\u001b[0m\u001b[0;34m\u001b[0m\u001b[0;34m\u001b[0m\u001b[0m\n\u001b[1;32m    495\u001b[0m             \u001b[0mhook_result\u001b[0m \u001b[0;34m=\u001b[0m \u001b[0mhook\u001b[0m\u001b[0;34m(\u001b[0m\u001b[0mself\u001b[0m\u001b[0;34m,\u001b[0m \u001b[0minput\u001b[0m\u001b[0;34m,\u001b[0m \u001b[0mresult\u001b[0m\u001b[0;34m)\u001b[0m\u001b[0;34m\u001b[0m\u001b[0;34m\u001b[0m\u001b[0m\n",
            "\u001b[0;32m/usr/local/lib/python3.6/dist-packages/torch/nn/modules/conv.py\u001b[0m in \u001b[0;36mforward\u001b[0;34m(self, input)\u001b[0m\n\u001b[1;32m    336\u001b[0m                             _pair(0), self.dilation, self.groups)\n\u001b[1;32m    337\u001b[0m         return F.conv2d(input, self.weight, self.bias, self.stride,\n\u001b[0;32m--> 338\u001b[0;31m                         self.padding, self.dilation, self.groups)\n\u001b[0m\u001b[1;32m    339\u001b[0m \u001b[0;34m\u001b[0m\u001b[0m\n\u001b[1;32m    340\u001b[0m \u001b[0;34m\u001b[0m\u001b[0m\n",
            "\u001b[0;31mKeyboardInterrupt\u001b[0m: "
          ]
        }
      ]
    },
    {
      "cell_type": "code",
      "metadata": {
        "colab_type": "code",
        "id": "H4hjogO8NZfS",
        "colab": {
          "base_uri": "https://localhost:8080/",
          "height": 171
        },
        "outputId": "fc5b0a41-328d-449c-cc42-010c385f6856"
      },
      "source": [
        "lenet5.forward(X_test)"
      ],
      "execution_count": 13,
      "outputs": [
        {
          "output_type": "execute_result",
          "data": {
            "text/plain": [
              "tensor([[ -7.2149,  -0.9427,  -0.5705,  ...,  34.8097, -12.4453,   4.6867],\n",
              "        [  6.2348,   4.8561,  29.1619,  ..., -10.2819,   2.5534,  -8.6241],\n",
              "        [-10.9317,  39.0901,   1.4503,  ...,   4.8544,  -3.1966,  -5.9810],\n",
              "        ...,\n",
              "        [-14.8921,  -6.1132, -12.0770,  ...,   1.3950,   0.1522,   4.5646],\n",
              "        [ -0.6747, -10.9692, -14.8557,  ..., -12.1912,   2.6276,  -5.0493],\n",
              "        [  8.3073,  -9.4415,   2.6668,  ..., -19.1830,   5.8685, -11.7605]],\n",
              "       device='cuda:0', grad_fn=<AddmmBackward>)"
            ]
          },
          "metadata": {
            "tags": []
          },
          "execution_count": 13
        }
      ]
    },
    {
      "cell_type": "code",
      "metadata": {
        "colab_type": "code",
        "id": "4FDtagQvNZfU",
        "colab": {
          "base_uri": "https://localhost:8080/",
          "height": 269
        },
        "outputId": "41f95599-8bc9-4d12-bf92-60bd00d0562e"
      },
      "source": [
        "# plt.plot(test_accuracy_history);\n",
        "plt.plot(test_loss_history);"
      ],
      "execution_count": 16,
      "outputs": [
        {
          "output_type": "display_data",
          "data": {
            "image/png": "[encoded data removed]",
            "text/plain": [
              "<Figure size 432x288 with 1 Axes>"
            ]
          },
          "metadata": {
            "tags": []
          }
        }
      ]
    },
    {
      "cell_type": "code",
      "metadata": {
        "colab_type": "code",
        "id": "vta37dlSNZfZ",
        "colab": {}
      },
      "source": [
        ""
      ],
      "execution_count": 0,
      "outputs": []
    }
  ]
}