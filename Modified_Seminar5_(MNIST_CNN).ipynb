{
  "nbformat": 4,
  "nbformat_minor": 0,
  "metadata": {
    "colab": {
      "name": "Modified_Seminar5_(MNIST_CNN).ipynb",
      "version": "0.3.2",
      "provenance": [],
      "collapsed_sections": [],
      "include_colab_link": true
    },
    "language_info": {
      "codemirror_mode": {
        "name": "ipython",
        "version": 3
      },
      "file_extension": ".py",
      "mimetype": "text/x-python",
      "name": "python",
      "nbconvert_exporter": "python",
      "pygments_lexer": "ipython3",
      "version": "3.6.8"
    },
    "kernelspec": {
      "display_name": "Python 3",
      "language": "python",
      "name": "python3"
    },
    "accelerator": "GPU"
  },
  "cells": [
    {
      "cell_type": "markdown",
      "metadata": {
        "id": "view-in-github",
        "colab_type": "text"
      },
      "source": [
        "<a href=\"https://colab.research.google.com/github/kryvokhyzha/Neural-Network-and-CV/blob/master/Modified_Seminar5_(MNIST_CNN).ipynb\" target=\"_parent\"><img src=\"https://colab.research.google.com/assets/colab-badge.svg\" alt=\"Open In Colab\"/></a>"
      ]
    },
    {
      "cell_type": "markdown",
      "metadata": {
        "colab_type": "text",
        "id": "cdjn6pICZMoM"
      },
      "source": [
        "![alt text](https://engmrk.com/wp-content/uploads/2018/09/LeNet_Original_Image.jpg)"
      ]
    },
    {
      "cell_type": "markdown",
      "metadata": {
        "colab_type": "text",
        "id": "14icu4JgZXqM"
      },
      "source": [
        "![alt text](https://engmrk.com/wp-content/uploads/2018/09/LeNEt_Summary_Table.jpg)"
      ]
    },
    {
      "cell_type": "code",
      "metadata": {
        "colab_type": "code",
        "id": "85_HkTjcNZeg",
        "colab": {}
      },
      "source": [
        "import torch\n",
        "import random\n",
        "import numpy as np\n",
        "\n",
        "random.seed(0)\n",
        "np.random.seed(0)\n",
        "torch.manual_seed(0)\n",
        "torch.cuda.manual_seed(0)\n",
        "torch.backends.cudnn.deterministic = True"
      ],
      "execution_count": 0,
      "outputs": []
    },
    {
      "cell_type": "code",
      "metadata": {
        "colab_type": "code",
        "id": "kjPVw9UfNZel",
        "colab": {}
      },
      "source": [
        "import torchvision.datasets"
      ],
      "execution_count": 0,
      "outputs": []
    },
    {
      "cell_type": "code",
      "metadata": {
        "colab_type": "code",
        "id": "buWKcUqGNZeo",
        "outputId": "b130750f-a01b-42c8-ea6f-1dbab144181b",
        "colab": {
          "base_uri": "https://localhost:8080/",
          "height": 272
        }
      },
      "source": [
        "MNIST_train = torchvision.datasets.MNIST('./', download=True, train=True)\n",
        "MNIST_test = torchvision.datasets.MNIST('./', download=True, train=False)\n"
      ],
      "execution_count": 3,
      "outputs": [
        {
          "output_type": "stream",
          "text": [
            "  0%|          | 0/9912422 [00:00<?, ?it/s]"
          ],
          "name": "stderr"
        },
        {
          "output_type": "stream",
          "text": [
            "Downloading http://yann.lecun.com/exdb/mnist/train-images-idx3-ubyte.gz to ./MNIST/raw/train-images-idx3-ubyte.gz\n"
          ],
          "name": "stdout"
        },
        {
          "output_type": "stream",
          "text": [
            "9920512it [00:00, 20645828.06it/s]                            \n"
          ],
          "name": "stderr"
        },
        {
          "output_type": "stream",
          "text": [
            "Extracting ./MNIST/raw/train-images-idx3-ubyte.gz\n"
          ],
          "name": "stdout"
        },
        {
          "output_type": "stream",
          "text": [
            "32768it [00:00, 300733.80it/s]                           \n",
            "0it [00:00, ?it/s]"
          ],
          "name": "stderr"
        },
        {
          "output_type": "stream",
          "text": [
            "Downloading http://yann.lecun.com/exdb/mnist/train-labels-idx1-ubyte.gz to ./MNIST/raw/train-labels-idx1-ubyte.gz\n",
            "Extracting ./MNIST/raw/train-labels-idx1-ubyte.gz\n",
            "Downloading http://yann.lecun.com/exdb/mnist/t10k-images-idx3-ubyte.gz to ./MNIST/raw/t10k-images-idx3-ubyte.gz\n"
          ],
          "name": "stdout"
        },
        {
          "output_type": "stream",
          "text": [
            "1654784it [00:00, 5258842.11it/s]                           \n",
            "8192it [00:00, 131411.88it/s]\n"
          ],
          "name": "stderr"
        },
        {
          "output_type": "stream",
          "text": [
            "Extracting ./MNIST/raw/t10k-images-idx3-ubyte.gz\n",
            "Downloading http://yann.lecun.com/exdb/mnist/t10k-labels-idx1-ubyte.gz to ./MNIST/raw/t10k-labels-idx1-ubyte.gz\n",
            "Extracting ./MNIST/raw/t10k-labels-idx1-ubyte.gz\n",
            "Processing...\n",
            "Done!\n"
          ],
          "name": "stdout"
        }
      ]
    },
    {
      "cell_type": "code",
      "metadata": {
        "colab_type": "code",
        "id": "nyrpGOtPNZeq",
        "outputId": "a3b01b45-d470-4757-cd27-d5162ad93add",
        "colab": {
          "base_uri": "https://localhost:8080/",
          "height": 171
        }
      },
      "source": [
        "X_train = MNIST_train.train_data\n",
        "y_train = MNIST_train.train_labels\n",
        "X_test = MNIST_test.test_data\n",
        "y_test = MNIST_test.test_labels"
      ],
      "execution_count": 4,
      "outputs": [
        {
          "output_type": "stream",
          "text": [
            "/usr/local/lib/python3.6/dist-packages/torchvision/datasets/mnist.py:53: UserWarning: train_data has been renamed data\n",
            "  warnings.warn(\"train_data has been renamed data\")\n",
            "/usr/local/lib/python3.6/dist-packages/torchvision/datasets/mnist.py:43: UserWarning: train_labels has been renamed targets\n",
            "  warnings.warn(\"train_labels has been renamed targets\")\n",
            "/usr/local/lib/python3.6/dist-packages/torchvision/datasets/mnist.py:58: UserWarning: test_data has been renamed data\n",
            "  warnings.warn(\"test_data has been renamed data\")\n",
            "/usr/local/lib/python3.6/dist-packages/torchvision/datasets/mnist.py:48: UserWarning: test_labels has been renamed targets\n",
            "  warnings.warn(\"test_labels has been renamed targets\")\n"
          ],
          "name": "stderr"
        }
      ]
    },
    {
      "cell_type": "code",
      "metadata": {
        "colab_type": "code",
        "id": "f_TmOTWdNZet",
        "outputId": "5b2ef486-57d0-4f69-ac0f-06eeb5f3b675",
        "colab": {
          "base_uri": "https://localhost:8080/",
          "height": 34
        }
      },
      "source": [
        "len(y_train), len(y_test)"
      ],
      "execution_count": 5,
      "outputs": [
        {
          "output_type": "execute_result",
          "data": {
            "text/plain": [
              "(60000, 10000)"
            ]
          },
          "metadata": {
            "tags": []
          },
          "execution_count": 5
        }
      ]
    },
    {
      "cell_type": "code",
      "metadata": {
        "colab_type": "code",
        "id": "Zd-E4vIpNZe1",
        "outputId": "e00bed15-2a5e-4389-d143-7a91d157d9a5",
        "colab": {
          "base_uri": "https://localhost:8080/",
          "height": 286
        }
      },
      "source": [
        "import matplotlib.pyplot as plt\n",
        "plt.imshow(X_train[0, :, :])\n",
        "plt.show()\n",
        "print(y_train[0])"
      ],
      "execution_count": 6,
      "outputs": [
        {
          "output_type": "display_data",
          "data": {
            "image/png": "[encoded data removed]",
            "text/plain": [
              "<Figure size 432x288 with 1 Axes>"
            ]
          },
          "metadata": {
            "tags": []
          }
        },
        {
          "output_type": "stream",
          "text": [
            "tensor(5)\n"
          ],
          "name": "stdout"
        }
      ]
    },
    {
      "cell_type": "code",
      "metadata": {
        "colab_type": "code",
        "id": "Tf9LiDGuNZe6",
        "colab": {}
      },
      "source": [
        "X_train = X_train.unsqueeze(1).float()\n",
        "X_test = X_test.unsqueeze(1).float()"
      ],
      "execution_count": 0,
      "outputs": []
    },
    {
      "cell_type": "code",
      "metadata": {
        "colab_type": "code",
        "id": "kxKAhEYHNZe-",
        "outputId": "791adc5b-6f6e-4cf5-a5cc-5f70b2f72a13",
        "colab": {
          "base_uri": "https://localhost:8080/",
          "height": 34
        }
      },
      "source": [
        "X_train.shape"
      ],
      "execution_count": 8,
      "outputs": [
        {
          "output_type": "execute_result",
          "data": {
            "text/plain": [
              "torch.Size([60000, 1, 28, 28])"
            ]
          },
          "metadata": {
            "tags": []
          },
          "execution_count": 8
        }
      ]
    },
    {
      "cell_type": "code",
      "metadata": {
        "colab_type": "code",
        "id": "xhsw9soDODel",
        "colab": {}
      },
      "source": [
        "class LeNet5(torch.nn.Module):\n",
        "    def __init__(self):\n",
        "        super(LeNet5, self).__init__()\n",
        "        \n",
        "        self.layer1 = torch.nn.Sequential(torch.nn.Conv2d(in_channels=1, out_channels=32, kernel_size=5, padding=2),\n",
        "                                          torch.nn.ReLU(), torch.nn.MaxPool2d(kernel_size=2, stride=2))\n",
        "        \n",
        "        self.layer2 = torch.nn.Sequential(torch.nn.Conv2d(in_channels=32, out_channels=64, kernel_size=5, padding=0),\n",
        "                                          torch.nn.ReLU(), torch.nn.MaxPool2d(kernel_size=2, stride=2))\n",
        "        \n",
        "        self.fc1   = torch.nn.Linear(5 * 5 * 64, 1024)\n",
        "        self.act1  = torch.nn.ReLU()\n",
        "        \n",
        "        self.fc2   = torch.nn.Linear(1024, 512)\n",
        "        self.act2  = torch.nn.ReLU()\n",
        "        \n",
        "        self.fc3   = torch.nn.Linear(512, 128)\n",
        "        self.act3  = torch.nn.ReLU()\n",
        "        \n",
        "        self.fc4   = torch.nn.Linear(128, 32)\n",
        "        self.act4  = torch.nn.ReLU()\n",
        "        \n",
        "        self.fc5   = torch.nn.Linear(32, 10)\n",
        "    \n",
        "    def forward(self, x):\n",
        "        \n",
        "        out = self.layer1(x)\n",
        "        \n",
        "        out = self.layer2(out)\n",
        "        \n",
        "        out = out.view(out.size(0), out.size(1) * out.size(2) * out.size(3))\n",
        "\n",
        "        out = self.fc1(out)\n",
        "        out = self.act1(out)\n",
        "        \n",
        "        out = self.fc2(out)\n",
        "        out = self.act2(out)\n",
        "        \n",
        "        out = self.fc3(out)\n",
        "        out = self.act3(out)\n",
        "        \n",
        "        out = self.fc4(out)\n",
        "        out = self.act4(out)\n",
        "        \n",
        "        out = self.fc5(out)\n",
        "        \n",
        "        return out\n",
        "    \n",
        "lenet5 = LeNet5()"
      ],
      "execution_count": 0,
      "outputs": []
    },
    {
      "cell_type": "code",
      "metadata": {
        "colab_type": "code",
        "id": "qT-PsO7VNZfB",
        "colab": {}
      },
      "source": [
        "device = torch.device('cuda:0' if torch.cuda.is_available() else 'cpu')\n",
        "lenet5 = lenet5.to(device)"
      ],
      "execution_count": 0,
      "outputs": []
    },
    {
      "cell_type": "code",
      "metadata": {
        "colab_type": "code",
        "id": "rkK0kv1VNZfL",
        "colab": {}
      },
      "source": [
        "loss = torch.nn.CrossEntropyLoss()\n",
        "optimizer = torch.optim.Adam(lenet5.parameters(), lr=3.0e-4, betas=(0.9, 0.999))"
      ],
      "execution_count": 0,
      "outputs": []
    },
    {
      "cell_type": "code",
      "metadata": {
        "id": "uAen-6OmKaYe",
        "colab_type": "code",
        "colab": {}
      },
      "source": [
        "from tqdm import tqdm\n",
        "from IPython import display\n",
        "import numpy as np\n",
        "from sklearn.metrics import accuracy_score"
      ],
      "execution_count": 0,
      "outputs": []
    },
    {
      "cell_type": "code",
      "metadata": {
        "id": "l6QaaDVDThGG",
        "colab_type": "code",
        "colab": {}
      },
      "source": [
        "def show_plots(train_accuracy_history, train_loss_history, test_accuracy_history, test_loss_history):\n",
        "  _, axes = plt.subplots(1, 2, figsize=(16, 6))\n",
        "\n",
        "  axes[0].set_title(\"losses\")\n",
        "  axes[0].plot(train_loss_history, label=\"train loss\")\n",
        "  axes[0].plot(test_loss_history, label=\"val loss\")\n",
        "  axes[0].legend()\n",
        "\n",
        "  axes[1].set_title(\"accuracies\")\n",
        "  axes[1].plot(train_accuracy_history, label=\"train accuracy\")\n",
        "  axes[1].plot(test_accuracy_history, label=\"val accuracy\")\n",
        "  axes[1].legend()\n",
        "\n",
        "  plt.show() \n"
      ],
      "execution_count": 0,
      "outputs": []
    },
    {
      "cell_type": "code",
      "metadata": {
        "colab_type": "code",
        "id": "XfA9gqSdNZfQ",
        "outputId": "a5ba70cb-7d88-4ab0-d1ad-9976758d39ac",
        "colab": {
          "base_uri": "https://localhost:8080/",
          "height": 346
        }
      },
      "source": [
        "batch_size = 100\n",
        "\n",
        "test_accuracy_history = []\n",
        "test_loss_history = []\n",
        "\n",
        "train_accuracy_history = []\n",
        "train_loss_history = []\n",
        "\n",
        "X_test = X_test.to(device)\n",
        "y_test = y_test.to(device)\n",
        "\n",
        "for epoch in tqdm(range(10000)):\n",
        "    display.clear_output(wait=True)\n",
        "    \n",
        "    # 1. forward\n",
        "    lenet5.train(True)\n",
        "    loss_batch = []\n",
        "    acc_batch = []\n",
        "    order = np.random.permutation(len(X_train))\n",
        "    for start_index in range(0, len(X_train), batch_size):\n",
        "        # 1.1 получаем батчи\n",
        "        batch_indexes = order[start_index:start_index+batch_size]\n",
        "        \n",
        "        X_batch = X_train[batch_indexes].to(device)\n",
        "        y_batch = y_train[batch_indexes].to(device)\n",
        "        \n",
        "        # 1.2 получаем предсказания сети\n",
        "        preds = lenet5.forward(X_batch) \n",
        "        \n",
        "        # 1.3 вычисляем accuracy на данном батче по предсказаниями и правильным ответам\n",
        "        acc_batch.append(accuracy_score(np.argmax(preds.data.cpu().numpy(), axis=1), y_batch.data.cpu().numpy()))\n",
        "        \n",
        "        # 1.4 вычисляем loss (кросс-эетропию)\n",
        "        loss_train = loss(preds, y_batch)\n",
        "        \n",
        "        # 1.5 backward\n",
        "        loss_train.backward()\n",
        "        \n",
        "        # 1.6 обновляем веса\n",
        "        optimizer.step()\n",
        "        \n",
        "        # 1.7 зануляем градиент\n",
        "        optimizer.zero_grad()\n",
        "        \n",
        "        # 1.8 запоминаем ошибку на трейне\n",
        "        loss_batch.append(loss_train.data.cpu().numpy())\n",
        "        \n",
        "    train_loss_history.append(np.mean(loss_batch))\n",
        "    train_accuracy_history.append(np.mean(acc_batch))\n",
        "    \n",
        "    # 2. Validation\n",
        "    lenet5.train(False)\n",
        "    loss_batch = []\n",
        "    acc_batch = []\n",
        "    order = np.random.permutation(len(X_test))\n",
        "    for start_index in range(0, len(X_test), batch_size):\n",
        "        # 2.1 получаем батчи\n",
        "        batch_indexes = order[start_index:start_index+batch_size]\n",
        "        \n",
        "        X_batch = X_test[batch_indexes].to(device)\n",
        "        y_batch = y_test[batch_indexes].to(device)\n",
        "        \n",
        "        # 2.2 получаем предсказания сети\n",
        "        preds = lenet5.forward(X_batch) \n",
        "        \n",
        "        # 2.3 вычисляем accuracy на данном батче по предсказаниями и правильным ответам\n",
        "        acc_batch.append(accuracy_score(np.argmax(preds.data.cpu().numpy(), axis=1), y_batch.data.cpu().numpy()))\n",
        "        \n",
        "        # 2.4 вычисляем loss (кросс-эетропию)\n",
        "        loss_test = loss(preds, y_batch)\n",
        "        \n",
        "        # 2.5 запоминаем ошибку на тесте\n",
        "        loss_batch.append(loss_test.data.cpu().numpy())\n",
        "\n",
        "    test_loss_history.append(np.mean(loss_batch))\n",
        "    test_accuracy_history.append(np.mean(acc_batch))\n",
        "#     test_preds = lenet5.forward(X_test)\n",
        "#     test_loss_history.append(loss(test_preds, y_test).data.cpu())\n",
        "    \n",
        "#     accuracy = (test_preds.argmax(dim=1) == y_test).float().mean().data.cpu()\n",
        "#     test_accuracy_history.append(accuracy)\n",
        "    \n",
        "    # 3. Save model\n",
        "    if len(test_loss_history) > 1 and test_loss_history[-1] < np.min(test_loss_history[:-1]):\n",
        "      torch.save(lenet5.state_dict(), 'model.pt')\n",
        "      \n",
        "      \n",
        "    # 4. Show plots\n",
        "    show_plots(train_accuracy_history=train_accuracy_history,\n",
        "               train_loss_history=train_loss_history,\n",
        "               test_accuracy_history=test_accuracy_history,\n",
        "               test_loss_history=test_loss_history)\n",
        "    \n",
        "    print()\n",
        "    print(\"Final loss: \", test_loss_history[-1])\n",
        "    print(\"Final accuracy: \", test_accuracy_history[-1])\n",
        "    \n",
        "    !nvidia-smi"
      ],
      "execution_count": 34,
      "outputs": [
        {
          "output_type": "error",
          "ename": "KeyboardInterrupt",
          "evalue": "ignored",
          "traceback": [
            "\u001b[0;31m---------------------------------------------------------------------------\u001b[0m",
            "\u001b[0;31mKeyboardInterrupt\u001b[0m                         Traceback (most recent call last)",
            "\u001b[0;32m<ipython-input-34-7f874bba82f0>\u001b[0m in \u001b[0;36m<module>\u001b[0;34m()\u001b[0m\n\u001b[1;32m     38\u001b[0m \u001b[0;34m\u001b[0m\u001b[0m\n\u001b[1;32m     39\u001b[0m         \u001b[0;31m# 1.6 обновляем веса\u001b[0m\u001b[0;34m\u001b[0m\u001b[0;34m\u001b[0m\u001b[0;34m\u001b[0m\u001b[0m\n\u001b[0;32m---> 40\u001b[0;31m         \u001b[0moptimizer\u001b[0m\u001b[0;34m.\u001b[0m\u001b[0mstep\u001b[0m\u001b[0;34m(\u001b[0m\u001b[0;34m)\u001b[0m\u001b[0;34m\u001b[0m\u001b[0;34m\u001b[0m\u001b[0m\n\u001b[0m\u001b[1;32m     41\u001b[0m \u001b[0;34m\u001b[0m\u001b[0m\n\u001b[1;32m     42\u001b[0m         \u001b[0;31m# 1.7 зануляем градиент\u001b[0m\u001b[0;34m\u001b[0m\u001b[0;34m\u001b[0m\u001b[0;34m\u001b[0m\u001b[0m\n",
            "\u001b[0;32m/usr/local/lib/python3.6/dist-packages/torch/optim/adam.py\u001b[0m in \u001b[0;36mstep\u001b[0;34m(self, closure)\u001b[0m\n\u001b[1;32m     92\u001b[0m                 \u001b[0;31m# Decay the first and second moment running average coefficient\u001b[0m\u001b[0;34m\u001b[0m\u001b[0;34m\u001b[0m\u001b[0;34m\u001b[0m\u001b[0m\n\u001b[1;32m     93\u001b[0m                 \u001b[0mexp_avg\u001b[0m\u001b[0;34m.\u001b[0m\u001b[0mmul_\u001b[0m\u001b[0;34m(\u001b[0m\u001b[0mbeta1\u001b[0m\u001b[0;34m)\u001b[0m\u001b[0;34m.\u001b[0m\u001b[0madd_\u001b[0m\u001b[0;34m(\u001b[0m\u001b[0;36m1\u001b[0m \u001b[0;34m-\u001b[0m \u001b[0mbeta1\u001b[0m\u001b[0;34m,\u001b[0m \u001b[0mgrad\u001b[0m\u001b[0;34m)\u001b[0m\u001b[0;34m\u001b[0m\u001b[0;34m\u001b[0m\u001b[0m\n\u001b[0;32m---> 94\u001b[0;31m                 \u001b[0mexp_avg_sq\u001b[0m\u001b[0;34m.\u001b[0m\u001b[0mmul_\u001b[0m\u001b[0;34m(\u001b[0m\u001b[0mbeta2\u001b[0m\u001b[0;34m)\u001b[0m\u001b[0;34m.\u001b[0m\u001b[0maddcmul_\u001b[0m\u001b[0;34m(\u001b[0m\u001b[0;36m1\u001b[0m \u001b[0;34m-\u001b[0m \u001b[0mbeta2\u001b[0m\u001b[0;34m,\u001b[0m \u001b[0mgrad\u001b[0m\u001b[0;34m,\u001b[0m \u001b[0mgrad\u001b[0m\u001b[0;34m)\u001b[0m\u001b[0;34m\u001b[0m\u001b[0;34m\u001b[0m\u001b[0m\n\u001b[0m\u001b[1;32m     95\u001b[0m                 \u001b[0;32mif\u001b[0m \u001b[0mamsgrad\u001b[0m\u001b[0;34m:\u001b[0m\u001b[0;34m\u001b[0m\u001b[0;34m\u001b[0m\u001b[0m\n\u001b[1;32m     96\u001b[0m                     \u001b[0;31m# Maintains the maximum of all 2nd moment running avg. till now\u001b[0m\u001b[0;34m\u001b[0m\u001b[0;34m\u001b[0m\u001b[0;34m\u001b[0m\u001b[0m\n",
            "\u001b[0;31mKeyboardInterrupt\u001b[0m: "
          ]
        }
      ]
    },
    {
      "cell_type": "code",
      "metadata": {
        "id": "zJeU65-VXnvc",
        "colab_type": "code",
        "colab": {
          "base_uri": "https://localhost:8080/",
          "height": 336
        },
        "outputId": "9395021d-88e6-4c52-9f8c-53889fab58dc"
      },
      "source": [
        "!nvidia-smi\n",
        "\n",
        "print()\n",
        "\n",
        "test_preds = lenet5.forward(X_test)\n",
        "print(\"Final loss: \", loss(test_preds, y_test).data.cpu())\n",
        "    \n",
        "accuracy = (test_preds.argmax(dim=1) == y_test).float().mean().data.cpu()\n",
        "print(\"Final accuracy: \", accuracy)"
      ],
      "execution_count": 35,
      "outputs": [
        {
          "output_type": "stream",
          "text": [
            "Sun Jun 30 23:02:14 2019       \n",
            "+-----------------------------------------------------------------------------+\n",
            "| NVIDIA-SMI 418.67       Driver Version: 410.79       CUDA Version: 10.0     |\n",
            "|-------------------------------+----------------------+----------------------+\n",
            "| GPU  Name        Persistence-M| Bus-Id        Disp.A | Volatile Uncorr. ECC |\n",
            "| Fan  Temp  Perf  Pwr:Usage/Cap|         Memory-Usage | GPU-Util  Compute M. |\n",
            "|===============================+======================+======================|\n",
            "|   0  Tesla T4            Off  | 00000000:00:04.0 Off |                    0 |\n",
            "| N/A   72C    P0    30W /  70W |   1687MiB / 15079MiB |      0%      Default |\n",
            "+-------------------------------+----------------------+----------------------+\n",
            "                                                                               \n",
            "+-----------------------------------------------------------------------------+\n",
            "| Processes:                                                       GPU Memory |\n",
            "|  GPU       PID   Type   Process name                             Usage      |\n",
            "|=============================================================================|\n",
            "+-----------------------------------------------------------------------------+\n",
            "\n",
            "Final loss:  tensor(0.0364)\n",
            "Final accuracy:  tensor(0.9933)\n"
          ],
          "name": "stdout"
        }
      ]
    },
    {
      "cell_type": "code",
      "metadata": {
        "id": "RiDb84eZ2QR8",
        "colab_type": "code",
        "colab": {}
      },
      "source": [
        "  "
      ],
      "execution_count": 0,
      "outputs": []
    }
  ]
}